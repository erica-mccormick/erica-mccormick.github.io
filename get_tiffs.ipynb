{
  "nbformat": 4,
  "nbformat_minor": 0,
  "metadata": {
    "colab": {
      "name": "get_tiffs.ipynb",
      "provenance": [],
      "collapsed_sections": [
        "eoBrk305R8yh",
        "gB8_aUcTD7fl"
      ],
      "authorship_tag": "ABX9TyN4iP/Z9RuvgJ1ic4uFVlNv",
      "include_colab_link": true
    },
    "kernelspec": {
      "name": "python3",
      "display_name": "Python 3"
    },
    "language_info": {
      "name": "python"
    }
  },
  "cells": [
    {
      "cell_type": "markdown",
      "metadata": {
        "id": "view-in-github",
        "colab_type": "text"
      },
      "source": [
        "<a href=\"https://colab.research.google.com/github/erica-mccormick/erica-mccormick.github.io/blob/main/get_tiffs.ipynb\" target=\"_parent\"><img src=\"https://colab.research.google.com/assets/colab-badge.svg\" alt=\"Open In Colab\"/></a>"
      ]
    },
    {
      "cell_type": "markdown",
      "metadata": {
        "id": "9JpHWimUSKCO"
      },
      "source": [
        "#**Generate and export tifs of CONUS at 500 m resolution with no mask**"
      ]
    },
    {
      "cell_type": "markdown",
      "metadata": {
        "id": "I39VD7_ZD-d7"
      },
      "source": [
        "## To ensure correct results, run each section from beginning to end. There are some repeated var names so be mindful!"
      ]
    },
    {
      "cell_type": "markdown",
      "metadata": {
        "id": "jCC0wRymSYEY"
      },
      "source": [
        "##To plot flattened rasters based on lithological groups, see [here](https://github.com/erica-mccormick/rm_lithology/blob/main/lith.ipynb)."
      ]
    },
    {
      "cell_type": "markdown",
      "metadata": {
        "id": "2KwJh6BjR3Ud"
      },
      "source": [
        "## **Imports**"
      ]
    },
    {
      "cell_type": "code",
      "metadata": {
        "cellView": "both",
        "colab": {
          "base_uri": "https://localhost:8080/"
        },
        "id": "yxBXo7unYLY1",
        "outputId": "b3868e7c-1f56-455c-bc44-c45a1d83193f"
      },
      "source": [
        "import ee\n",
        "ee.Authenticate()\n",
        "ee.Initialize()"
      ],
      "execution_count": 1,
      "outputs": [
        {
          "output_type": "stream",
          "text": [
            "To authorize access needed by Earth Engine, open the following URL in a web browser and follow the instructions. If the web browser does not start automatically, please manually browse the URL below.\n",
            "\n",
            "    https://accounts.google.com/o/oauth2/auth?client_id=517222506229-vsmmajv00ul0bs7p89v5m89qs8eb9359.apps.googleusercontent.com&scope=https%3A%2F%2Fwww.googleapis.com%2Fauth%2Fearthengine+https%3A%2F%2Fwww.googleapis.com%2Fauth%2Fdevstorage.full_control&redirect_uri=urn%3Aietf%3Awg%3Aoauth%3A2.0%3Aoob&response_type=code&code_challenge=1NaDIK5sB-6M_59EMsg_ADrF6G5xW99TmeFvrBuhqeo&code_challenge_method=S256\n",
            "\n",
            "The authorization workflow will generate a code, which you should paste in the box below. \n",
            "Enter verification code: 4/1AY0e-g5JR3xqTdUcaaa_y3PeJSgwtGeP5yp4fhfmgBqfaTdlhsBRVnNjhUM\n",
            "\n",
            "Successfully saved authorization token.\n"
          ],
          "name": "stdout"
        }
      ]
    },
    {
      "cell_type": "code",
      "metadata": {
        "id": "pYaSonOI2C28"
      },
      "source": [
        "prism = ee.ImageCollection(\"OREGONSTATE/PRISM/AN81d\")\n",
        "pml = ee.ImageCollection(\"CAS/IGSNRR/PML/V2\")\n",
        "USGS_landcover = ee.ImageCollection(\"USGS/NLCD\")\n",
        "modis_landcover = ee.ImageCollection(\"MODIS/006/MCD12Q1\")\n",
        "snow_cover = ee.ImageCollection(\"MODIS/006/MOD10A1\").select('NDSI_Snow_Cover')\n",
        "land_cover = ee.ImageCollection(\"MODIS/006/MCD12Q1\")\n",
        "\n",
        "landfire = ee.ImageCollection(\"LANDFIRE/Vegetation/EVT/v1_4_0\").first()"
      ],
      "execution_count": 2,
      "outputs": []
    },
    {
      "cell_type": "code",
      "metadata": {
        "id": "zxv4pNHvzamq"
      },
      "source": [
        "#Geometries\n",
        "ca = ee.Feature(ee.FeatureCollection(\"users/daviddralle/ca_et/CA\").first())\n",
        "conus = ee.FeatureCollection('users/ericamccormick/20_RockMoisture/geometries/conus_20m')\n",
        "texas = ee.FeatureCollection('users/ericamccormick/20_RockMoisture/geometries/TX')\n",
        "\n",
        "#Dbedrock,Y\n",
        "drock04 = ee.Image('users/ericamccormick/20_RockMoisture/deficit/bedrock/Dbedrock_2004')\n",
        "drock05 = ee.Image('users/ericamccormick/20_RockMoisture/deficit/bedrock/Dbedrock_2005')\n",
        "drock06 = ee.Image('users/ericamccormick/20_RockMoisture/deficit/bedrock/Dbedrock_2006')\n",
        "drock07 = ee.Image('users/ericamccormick/20_RockMoisture/deficit/bedrock/Dbedrock_2007')\n",
        "drock08 = ee.Image('users/ericamccormick/20_RockMoisture/deficit/bedrock/Dbedrock_2008')\n",
        "drock09 = ee.Image('users/ericamccormick/20_RockMoisture/deficit/bedrock/Dbedrock_2009')\n",
        "drock10 = ee.Image('users/ericamccormick/20_RockMoisture/deficit/bedrock/Dbedrock_2010')\n",
        "drock11 = ee.Image('users/ericamccormick/20_RockMoisture/deficit/bedrock/Dbedrock_2011')\n",
        "drock12 = ee.Image('users/ericamccormick/20_RockMoisture/deficit/bedrock/Dbedrock_2012')\n",
        "drock13 = ee.Image('users/ericamccormick/20_RockMoisture/deficit/bedrock/Dbedrock_2013')\n",
        "drock14 = ee.Image('users/ericamccormick/20_RockMoisture/deficit/bedrock/Dbedrock_2014')\n",
        "drock15 = ee.Image('users/ericamccormick/20_RockMoisture/deficit/bedrock/Dbedrock_2015')\n",
        "drock16 = ee.Image('users/ericamccormick/20_RockMoisture/deficit/bedrock/Dbedrock_2016')\n",
        "drock17 = ee.Image('users/ericamccormick/20_RockMoisture/deficit/bedrock/Dbedrock_2017')\n",
        "\n",
        "#Median Dbedrock,Y\n",
        "Dbedrock_median_zeros = ee.Image('users/ericamccormick/20_RockMoisture/deficit/bedrock/Dbedrock_median')\n",
        "\n",
        "#Masks\n",
        "woodveg_x_shallowbedrock = ee.Image('users/ericamccormick/20_RockMoisture/masks/woodyVeg_x_shallowBedrock')\n",
        "woodyveg = ee.Image('users/ericamccormick/20_RockMoisture/masks/mask_woodyVeg')\n",
        "shallowbedrock = ee.Image('users/ericamccormick/20_RockMoisture/masks/mask_shallowBedrock')\n",
        "mask_reproj = ee.Image('users/ericamccormick/20_RockMoisture/masks/mask_reproj') #final mask including ET>P\n",
        "\n",
        "#Sbedrock and Sr\n",
        "Sbedrock = ee.Image('users/ericamccormick/20_RockMoisture/deficit/bedrock/Sbedrock')\n",
        "Sr = ee.Image('users/ericamccormick/20_RockMoisture/deficit/root-zone/Sr2003_2017_Mask')\n",
        "\n",
        "#gNATSGO\n",
        "Ssoil = ee.Image('users/ericamccormick/20_RockMoisture/products/gNATSGO/Ssoil_500m')\n",
        "densic = ee.Image('users/ericamccormick/20_RockMoisture/products/gNATSGO/densic_weavg_lower_reprojected')\n",
        "#lithic = \n",
        "paralithic = ee.Image('users/ericamccormick/20_RockMoisture/products/gNATSGO/paralithic_weavg_lower_reprojected')\n",
        "\n",
        "#Other\n",
        "koppen = ee.Image('users/ericamccormick/20_RockMoisture/products/Koppen_Global')\n",
        "MAP = ee.Image('users/ericamccormick/MAP')\n",
        "MeanAnnualPET = ee.Image('users/ericamccormick/MeanAnnualPET')\n",
        "CA_abovegroundbiomass = ee.Image('users/ericamccormick/aboveground_biomass_carbon_2010_scaled_CA')\n"
      ],
      "execution_count": 3,
      "outputs": []
    },
    {
      "cell_type": "code",
      "metadata": {
        "id": "8khD3Ff9RJcK"
      },
      "source": [
        "import pandas as pd\n",
        "import numpy as np\n",
        "from google.colab import files\n",
        "import requests"
      ],
      "execution_count": 4,
      "outputs": []
    },
    {
      "cell_type": "markdown",
      "metadata": {
        "id": "lEdZUJ8pmeE0"
      },
      "source": [
        "##**Annual NPP**"
      ]
    },
    {
      "cell_type": "code",
      "metadata": {
        "id": "mZ1yBIMYmg2S"
      },
      "source": [
        "# already at 500m, scaling = 0.0001\n",
        "npp = ee.ImageCollection(\"MODIS/006/MOD17A3HGF\").select('Npp')\n",
        "\n",
        "year = 2004\n",
        "while (year < 2018):\n",
        "  start = str(year) +\"-01-01\"\n",
        "  stop = str(year)+\"-01-31\"\n",
        "  to_export = npp.filterDate(start, stop).first().clip(conus.geometry()).toDouble()\n",
        "\n",
        "  task_config = {\n",
        "          'region': conus.geometry(),\n",
        "          'fileFormat': 'GeoTIFF',\n",
        "          'fileNamePrefix': 'NPP'+ str(year), #change the name to reflect parameters\n",
        "          'image': to_export,\n",
        "          'description': 'NPP'+str(year),\n",
        "          'scale': 500,\n",
        "          'maxPixels': 10000000000000,\n",
        "          'crs':'EPSG:4326'\n",
        "      }\n",
        "\n",
        "  task=ee.batch.Export.image.toDrive(**task_config)\n",
        "  task.start()\n",
        "\n",
        "  year += 1"
      ],
      "execution_count": null,
      "outputs": []
    },
    {
      "cell_type": "markdown",
      "metadata": {
        "id": "PuHXc87EFNzj"
      },
      "source": [
        "##**Mean NPP**"
      ]
    },
    {
      "cell_type": "code",
      "metadata": {
        "id": "y15Lp0N2FQPe"
      },
      "source": [
        "npp = ee.ImageCollection(\"MODIS/006/MOD17A3HGF\").select('Npp')\n",
        "start = \"2004-01-01\"\n",
        "stop = \"2018-12-31\"\n",
        "to_export = npp.filterDate(start, stop).mean().clip(conus.geometry()).toDouble()\n",
        "\n",
        "task_config = {\n",
        "        'region': conus.geometry(),\n",
        "        'fileFormat': 'GeoTIFF',\n",
        "        'fileNamePrefix': 'NPP_mean', #change the name to reflect parameters\n",
        "        'image': to_export,\n",
        "        'description': 'NPP_mean',\n",
        "        'scale': 500,\n",
        "        'maxPixels': 10000000000000,\n",
        "        'crs':'EPSG:4326'\n",
        "    }\n",
        "\n",
        "task=ee.batch.Export.image.toDrive(**task_config)\n",
        "task.start()"
      ],
      "execution_count": null,
      "outputs": []
    },
    {
      "cell_type": "markdown",
      "metadata": {
        "id": "OGLN-G7-5BI3"
      },
      "source": [
        "##**Landfire**"
      ]
    },
    {
      "cell_type": "code",
      "metadata": {
        "id": "7giCys28u91G"
      },
      "source": [
        "landfire = ee.Image('users/ericamccormick/20_RockMoisture/products/Landfire')\n",
        "\n",
        "### This shouldn't be necessary b/c the pyramiding mode is set to \n",
        "landfire_500 = landfire.reduceResolution(**{\n",
        "  'reducer': ee.Reducer.mode(),\n",
        "  'maxPixels': 1024\n",
        "  }).reproject(crs='EPSG:4326', scale = 500)\n"
      ],
      "execution_count": null,
      "outputs": []
    },
    {
      "cell_type": "code",
      "metadata": {
        "id": "T2iNeEeItVxd"
      },
      "source": [
        "task_config = {\n",
        "        'region': conus.geometry(),\n",
        "        'fileFormat': 'GeoTIFF',\n",
        "        'fileNamePrefix': 'landfire_500_mode',\n",
        "        'image': landfire_500.toDouble().clip(conus.geometry()),\n",
        "        'description': 'landfire_500_mode',\n",
        "        'scale': 500,\n",
        "        'maxPixels': 10000000000000\n",
        "    }\n",
        "\n",
        "task=ee.batch.Export.image.toDrive(**task_config)\n",
        "task.start()"
      ],
      "execution_count": null,
      "outputs": []
    },
    {
      "cell_type": "markdown",
      "metadata": {
        "id": "wJr8nyHtR5Mr"
      },
      "source": [
        "##**Annual water year precipitation**"
      ]
    },
    {
      "cell_type": "markdown",
      "metadata": {
        "id": "dfT71fyRBhSZ"
      },
      "source": [
        "First calculate mean annual water year precipitation (MAP) from 2003-2017 using PRISM dataset (Daly, 2008)."
      ]
    },
    {
      "cell_type": "code",
      "metadata": {
        "id": "RTYMPMIgK-NZ"
      },
      "source": [
        "## define function to take the annual sum of precipitation \n",
        "def annualSum(startyear,stopyear):\n",
        "  start = str(startyear) +\"-10-01\"\n",
        "  stop = str(stopyear)+\"-09-30\"\n",
        "  prism = ee.ImageCollection('OREGONSTATE/PRISM/AN81d').select('ppt').filterDate(start, stop)\n",
        "  MAP = prism.reduce(**{\n",
        "    'reducer': ee.Reducer.sum(),\n",
        "  })\n",
        "  return MAP"
      ],
      "execution_count": null,
      "outputs": []
    },
    {
      "cell_type": "code",
      "metadata": {
        "id": "l2qEn8lruYWK"
      },
      "source": [
        "## get the sum of precipitation each year\n",
        "MAP2004 = annualSum(2003,2004)\n",
        "MAP2005 = annualSum(2004,2005)\n",
        "MAP2006 = annualSum(2005,2006)\n",
        "MAP2007 = annualSum(2006,2007)\n",
        "MAP2008 = annualSum(2007,2008)\n",
        "MAP2009 = annualSum(2008,2009)\n",
        "MAP2010 = annualSum(2009,2010)\n",
        "MAP2011 = annualSum(2010,2011)\n",
        "MAP2012 = annualSum(2011,2012)\n",
        "MAP2013 = annualSum(2012,2013)\n",
        "MAP2014 = annualSum(2013,2014)\n",
        "MAP2015 = annualSum(2014,2015)\n",
        "MAP2016 = annualSum(2015,2016)\n",
        "MAP2017 = annualSum(2016,2017)"
      ],
      "execution_count": null,
      "outputs": []
    },
    {
      "cell_type": "code",
      "metadata": {
        "id": "HrvQnS1fS7nP"
      },
      "source": [
        "all_years_p = [MAP2004, MAP2005, MAP2006, MAP2007, MAP2008, MAP2009, MAP2010, MAP2011, MAP2012, MAP2013, MAP2014, MAP2015, MAP2016, MAP2017]"
      ],
      "execution_count": null,
      "outputs": []
    },
    {
      "cell_type": "code",
      "metadata": {
        "id": "VccEWuprS5dN"
      },
      "source": [
        "year = 2004\n",
        "for i in all_years_p:\n",
        "  to_export = i.clip(conus.geometry()).toDouble()\n",
        "\n",
        "  task_config = {\n",
        "          'region': conus.geometry(),\n",
        "          'fileFormat': 'GeoTIFF',\n",
        "          'fileNamePrefix': 'precip_'+ str(year), #change the name to reflect parameters\n",
        "          'image': to_export,\n",
        "          'description': str(year),\n",
        "          'scale': 500,\n",
        "          'maxPixels': 10000000000000,\n",
        "          'crs':'EPSG:4326'\n",
        "      }\n",
        "\n",
        "  task=ee.batch.Export.image.toDrive(**task_config)\n",
        "  task.start()\n",
        "\n",
        "  year += 1"
      ],
      "execution_count": null,
      "outputs": []
    },
    {
      "cell_type": "markdown",
      "metadata": {
        "id": "oA_q1FRYSylZ"
      },
      "source": [
        "##**MAP**"
      ]
    },
    {
      "cell_type": "code",
      "metadata": {
        "id": "0TrEcJBH_CGX"
      },
      "source": [
        "def annualSum(startyear,stopyear):\n",
        "  start = str(startyear) +\"-10-01\"\n",
        "  stop = str(stopyear)+\"-09-30\"\n",
        "  prism = ee.ImageCollection('OREGONSTATE/PRISM/AN81d').select('ppt').filterDate(start, stop)\n",
        "  MAP = prism.reduce(**{\n",
        "    'reducer': ee.Reducer.sum(),\n",
        "  })\n",
        "  return MAP"
      ],
      "execution_count": null,
      "outputs": []
    },
    {
      "cell_type": "code",
      "metadata": {
        "id": "Fo0a5c2v--nv"
      },
      "source": [
        "## get the sum of precipitation each year\n",
        "MAP2004 = annualSum(2003,2004)\n",
        "MAP2005 = annualSum(2004,2005)\n",
        "MAP2006 = annualSum(2005,2006)\n",
        "MAP2007 = annualSum(2006,2007)\n",
        "MAP2008 = annualSum(2007,2008)\n",
        "MAP2009 = annualSum(2008,2009)\n",
        "MAP2010 = annualSum(2009,2010)\n",
        "MAP2011 = annualSum(2010,2011)\n",
        "MAP2012 = annualSum(2011,2012)\n",
        "MAP2013 = annualSum(2012,2013)\n",
        "MAP2014 = annualSum(2013,2014)\n",
        "MAP2015 = annualSum(2014,2015)\n",
        "MAP2016 = annualSum(2015,2016)\n",
        "MAP2017 = annualSum(2016,2017)"
      ],
      "execution_count": null,
      "outputs": []
    },
    {
      "cell_type": "code",
      "metadata": {
        "id": "xpq-Q7n8IT4K"
      },
      "source": [
        "# Combine images from each year into an image collection with all years\n",
        "MAP = ee.ImageCollection([MAP2004, MAP2005, MAP2006, MAP2007, MAP2008, MAP2009, MAP2010, MAP2011, MAP2012, MAP2013, MAP2014, MAP2015, MAP2016, MAP2017])"
      ],
      "execution_count": null,
      "outputs": []
    },
    {
      "cell_type": "code",
      "metadata": {
        "id": "sYqizqfQI6lE"
      },
      "source": [
        "# Get the mean of each cumulative annual precip\n",
        "MAP_Mean = MAP.reduce(**{\n",
        "    'reducer': ee.Reducer.mean(),\n",
        "  })"
      ],
      "execution_count": null,
      "outputs": []
    },
    {
      "cell_type": "code",
      "metadata": {
        "id": "1c9NS-Ys7q7U"
      },
      "source": [
        "to_export = MAP_Mean.clip(conus.geometry()).toDouble()\n",
        "\n",
        "task_config = {\n",
        "        'region': conus.geometry(),\n",
        "        'fileFormat': 'GeoTIFF',\n",
        "        'fileNamePrefix': 'MAP', #change the name to reflect parameters\n",
        "        'image': to_export,\n",
        "        'description': 'MAP',\n",
        "        'scale': 500,\n",
        "        'maxPixels': 10000000000000,\n",
        "        'crs':'EPSG:4326'\n",
        "    }\n",
        "\n",
        "task=ee.batch.Export.image.toDrive(**task_config)\n",
        "task.start()"
      ],
      "execution_count": null,
      "outputs": []
    },
    {
      "cell_type": "markdown",
      "metadata": {
        "id": "eoBrk305R8yh"
      },
      "source": [
        "##**Annual spring precipitation**"
      ]
    },
    {
      "cell_type": "code",
      "metadata": {
        "id": "QJTZetbuTxRA"
      },
      "source": [
        "## define function to take the annual sum of precipitation \n",
        "def springSum(startyear,stopyear):\n",
        "  start = str(startyear) +\"-3-01\"\n",
        "  stop = str(stopyear)+\"-05-31\"\n",
        "  prism = ee.ImageCollection('OREGONSTATE/PRISM/AN81d').select('ppt').filterDate(start, stop)\n",
        "  MAP = prism.reduce(**{\n",
        "    'reducer': ee.Reducer.sum(),\n",
        "  })\n",
        "  return MAP"
      ],
      "execution_count": null,
      "outputs": []
    },
    {
      "cell_type": "code",
      "metadata": {
        "id": "LTbmAkZ0TxRD"
      },
      "source": [
        "## get the sum of precipitation each year\n",
        "MAP2004 = annualSum(2003,2004)\n",
        "MAP2005 = annualSum(2004,2005)\n",
        "MAP2006 = annualSum(2005,2006)\n",
        "MAP2007 = annualSum(2006,2007)\n",
        "MAP2008 = annualSum(2007,2008)\n",
        "MAP2009 = annualSum(2008,2009)\n",
        "MAP2010 = annualSum(2009,2010)\n",
        "MAP2011 = annualSum(2010,2011)\n",
        "MAP2012 = annualSum(2011,2012)\n",
        "MAP2013 = annualSum(2012,2013)\n",
        "MAP2014 = annualSum(2013,2014)\n",
        "MAP2015 = annualSum(2014,2015)\n",
        "MAP2016 = annualSum(2015,2016)\n",
        "MAP2017 = annualSum(2016,2017)"
      ],
      "execution_count": null,
      "outputs": []
    },
    {
      "cell_type": "code",
      "metadata": {
        "id": "stU6ukjpTxRE"
      },
      "source": [
        "all_years_spring_p = [MAP2004, MAP2005, MAP2006, MAP2007, MAP2008, MAP2009, MAP2010, MAP2011, MAP2012, MAP2013, MAP2014, MAP2015, MAP2016, MAP2017]"
      ],
      "execution_count": null,
      "outputs": []
    },
    {
      "cell_type": "code",
      "metadata": {
        "id": "3m6rYhLcTxRE"
      },
      "source": [
        "year = 2004\n",
        "for i in all_years_spring_p:\n",
        "  to_export = i.clip(conus.geometry()).toDouble()\n",
        "\n",
        "  task_config = {\n",
        "          'region': conus.geometry(),\n",
        "          'fileFormat': 'GeoTIFF',\n",
        "          'fileNamePrefix': 'spring_precip_'+ str(year), #change the name to reflect parameters\n",
        "          'image': to_export,\n",
        "          'description': 'spring' + str(year),\n",
        "          'scale': 500,\n",
        "          'maxPixels': 10000000000000,\n",
        "          'crs':'EPSG:4326'\n",
        "      }\n",
        "\n",
        "  task=ee.batch.Export.image.toDrive(**task_config)\n",
        "  task.start()\n",
        "\n",
        "  year += 1"
      ],
      "execution_count": null,
      "outputs": []
    },
    {
      "cell_type": "markdown",
      "metadata": {
        "id": "eu9HidErotIR"
      },
      "source": [
        "##**Mean annual ET (PML)**"
      ]
    },
    {
      "cell_type": "code",
      "metadata": {
        "id": "ipto2WmjCs6E"
      },
      "source": [
        "def annualSum_ET(startyear,stopyear):\n",
        "  start = str(startyear) +\"-10-01\"\n",
        "  stop = str(stopyear)+\"-09-30\"\n",
        "  es = ee.ImageCollection('CAS/IGSNRR/PML/V2').select('Es').filterDate(start, stop)\n",
        "  ec = ee.ImageCollection('CAS/IGSNRR/PML/V2').select('Ec').filterDate(start, stop)\n",
        "  Es = es.reduce(**{\n",
        "    'reducer': ee.Reducer.sum(),\n",
        "  })\n",
        "  Ec = ec.reduce(**{\n",
        "    'reducer': ee.Reducer.sum(),\n",
        "  })\n",
        "\n",
        "  ET = Es.add(Ec)\n",
        "  ET = ET.multiply(8) # because its 8 day resolution\n",
        "\n",
        "  return ET"
      ],
      "execution_count": null,
      "outputs": []
    },
    {
      "cell_type": "code",
      "metadata": {
        "id": "SEXMm9A8Cs6G"
      },
      "source": [
        "## get the sum of precipitation each year\n",
        "MAP2004 = annualSum_ET(2003,2004)\n",
        "MAP2005 = annualSum_ET(2004,2005)\n",
        "MAP2006 = annualSum_ET(2005,2006)\n",
        "MAP2007 = annualSum_ET(2006,2007)\n",
        "MAP2008 = annualSum_ET(2007,2008)\n",
        "MAP2009 = annualSum_ET(2008,2009)\n",
        "MAP2010 = annualSum_ET(2009,2010)\n",
        "MAP2011 = annualSum_ET(2010,2011)\n",
        "MAP2012 = annualSum_ET(2011,2012)\n",
        "MAP2013 = annualSum_ET(2012,2013)\n",
        "MAP2014 = annualSum_ET(2013,2014)\n",
        "MAP2015 = annualSum_ET(2014,2015)\n",
        "MAP2016 = annualSum_ET(2015,2016)\n",
        "MAP2017 = annualSum_ET(2016,2017)"
      ],
      "execution_count": null,
      "outputs": []
    },
    {
      "cell_type": "code",
      "metadata": {
        "id": "kgfHafxBCs6G"
      },
      "source": [
        "# Combine images from each year into an image collection with all years\n",
        "MAP = ee.ImageCollection([MAP2004, MAP2005, MAP2006, MAP2007, MAP2008, MAP2009, MAP2010, MAP2011, MAP2012, MAP2013, MAP2014, MAP2015, MAP2016, MAP2017])"
      ],
      "execution_count": null,
      "outputs": []
    },
    {
      "cell_type": "code",
      "metadata": {
        "id": "yUzseU6lCs6G"
      },
      "source": [
        "# Get the mean of each cumulative annual precip\n",
        "MAP_Mean = MAP.reduce(**{\n",
        "    'reducer': ee.Reducer.mean(),\n",
        "  })"
      ],
      "execution_count": null,
      "outputs": []
    },
    {
      "cell_type": "code",
      "metadata": {
        "id": "NPAeHXL8owDP"
      },
      "source": [
        "task_config = {\n",
        "        'region': conus.geometry(),\n",
        "        'fileFormat': 'GeoTIFF',\n",
        "        'fileNamePrefix': 'mean_annual_et_pml_wx8', #change the name to reflect parameters\n",
        "        'image': MAP_Mean.clip(conus.geometry()).toDouble(),\n",
        "        'description': 'mean_annual_et_pml_wx8',\n",
        "        'scale': 500,\n",
        "        'maxPixels': 10000000000000,\n",
        "        'crs':'EPSG:4326'\n",
        "    }\n",
        "\n",
        "task=ee.batch.Export.image.toDrive(**task_config)\n",
        "task.start()"
      ],
      "execution_count": null,
      "outputs": []
    },
    {
      "cell_type": "markdown",
      "metadata": {
        "id": "Tqc5RmDemfMk"
      },
      "source": [
        "##**Summer ET (PML)** (June, July, August)"
      ]
    },
    {
      "cell_type": "code",
      "metadata": {
        "id": "szPQThMhmfMl"
      },
      "source": [
        "def summer_ET(startyear,stopyear):\n",
        "  start = str(startyear) +\"-6-01\"\n",
        "  stop = str(stopyear)+\"-8-31\"\n",
        "  es = ee.ImageCollection('CAS/IGSNRR/PML/V2').select('Es').filterDate(start, stop)\n",
        "  ec = ee.ImageCollection('CAS/IGSNRR/PML/V2').select('Ec').filterDate(start, stop)\n",
        "  Es = es.reduce(**{\n",
        "    'reducer': ee.Reducer.sum(),\n",
        "  })\n",
        "  Ec = ec.reduce(**{\n",
        "    'reducer': ee.Reducer.sum(),\n",
        "  })\n",
        "\n",
        "  ET = Es.add(Ec)\n",
        "  ET = ET.multiply(8) # because its 8 day resolution\n",
        "\n",
        "  return ET"
      ],
      "execution_count": 11,
      "outputs": []
    },
    {
      "cell_type": "code",
      "metadata": {
        "id": "NlCHuo8YmfMm"
      },
      "source": [
        "## get the sum of precipitation each year\n",
        "MAP2004 = summer_ET(2003,2004)\n",
        "MAP2005 = summer_ET(2004,2005)\n",
        "MAP2006 = summer_ET(2005,2006)\n",
        "MAP2007 = summer_ET(2006,2007)\n",
        "MAP2008 = summer_ET(2007,2008)\n",
        "MAP2009 = summer_ET(2008,2009)\n",
        "MAP2010 = summer_ET(2009,2010)\n",
        "MAP2011 = summer_ET(2010,2011)\n",
        "MAP2012 = summer_ET(2011,2012)\n",
        "MAP2013 = summer_ET(2012,2013)\n",
        "MAP2014 = summer_ET(2013,2014)\n",
        "MAP2015 = summer_ET(2014,2015)\n",
        "MAP2016 = summer_ET(2015,2016)\n",
        "MAP2017 = summer_ET(2016,2017)"
      ],
      "execution_count": 12,
      "outputs": []
    },
    {
      "cell_type": "code",
      "metadata": {
        "id": "wyhdCWNGnFHx"
      },
      "source": [
        "all_years_p = [MAP2004, MAP2005, MAP2006, MAP2007, MAP2008, MAP2009, MAP2010, MAP2011, MAP2012, MAP2013, MAP2014, MAP2015, MAP2016, MAP2017]"
      ],
      "execution_count": 13,
      "outputs": []
    },
    {
      "cell_type": "code",
      "metadata": {
        "id": "f0XhYZWZm-rs"
      },
      "source": [
        "year = 2004\n",
        "for i in all_years_p:\n",
        "  to_export = i.clip(conus.geometry()).toDouble()\n",
        "\n",
        "  task_config = {\n",
        "          'region': conus.geometry(),\n",
        "          'fileFormat': 'GeoTIFF',\n",
        "          'fileNamePrefix': 'ET_summer_'+ str(year), #change the name to reflect parameters\n",
        "          'image': to_export,\n",
        "          'description': 'ET_summer_'+str(year),\n",
        "          'scale': 500,\n",
        "          'maxPixels': 10000000000000,\n",
        "          'crs':'EPSG:4326'\n",
        "      }\n",
        "\n",
        "  task=ee.batch.Export.image.toDrive(**task_config)\n",
        "  task.start()\n",
        "\n",
        "  year += 1"
      ],
      "execution_count": 14,
      "outputs": []
    },
    {
      "cell_type": "markdown",
      "metadata": {
        "id": "XX42UZZ6nOjY"
      },
      "source": [
        "##**EARLY Summer ET (PML)** (April, May)"
      ]
    },
    {
      "cell_type": "code",
      "metadata": {
        "id": "bj_-sVJfnOjY"
      },
      "source": [
        "def EARLYsummer_ET(startyear,stopyear):\n",
        "  start = str(startyear) +\"-4-01\"\n",
        "  stop = str(stopyear)+\"-5-30\"\n",
        "  es = ee.ImageCollection('CAS/IGSNRR/PML/V2').select('Es').filterDate(start, stop)\n",
        "  ec = ee.ImageCollection('CAS/IGSNRR/PML/V2').select('Ec').filterDate(start, stop)\n",
        "  Es = es.reduce(**{\n",
        "    'reducer': ee.Reducer.sum(),\n",
        "  })\n",
        "  Ec = ec.reduce(**{\n",
        "    'reducer': ee.Reducer.sum(),\n",
        "  })\n",
        "\n",
        "  ET = Es.add(Ec)\n",
        "  ET = ET.multiply(8) # because its 8 day resolution\n",
        "\n",
        "  return ET"
      ],
      "execution_count": 18,
      "outputs": []
    },
    {
      "cell_type": "code",
      "metadata": {
        "id": "oxYjjL3DnOjZ"
      },
      "source": [
        "## get the sum of precipitation each year\n",
        "MAP2004 = EARLYsummer_ET(2003,2004)\n",
        "MAP2005 = EARLYsummer_ET(2004,2005)\n",
        "MAP2006 = EARLYsummer_ET(2005,2006)\n",
        "MAP2007 = EARLYsummer_ET(2006,2007)\n",
        "MAP2008 = EARLYsummer_ET(2007,2008)\n",
        "MAP2009 = EARLYsummer_ET(2008,2009)\n",
        "MAP2010 = EARLYsummer_ET(2009,2010)\n",
        "MAP2011 = EARLYsummer_ET(2010,2011)\n",
        "MAP2012 = EARLYsummer_ET(2011,2012)\n",
        "MAP2013 = EARLYsummer_ET(2012,2013)\n",
        "MAP2014 = EARLYsummer_ET(2013,2014)\n",
        "MAP2015 = EARLYsummer_ET(2014,2015)\n",
        "MAP2016 = EARLYsummer_ET(2015,2016)\n",
        "MAP2017 = EARLYsummer_ET(2016,2017)"
      ],
      "execution_count": 19,
      "outputs": []
    },
    {
      "cell_type": "code",
      "metadata": {
        "id": "jwALSETBnOjZ"
      },
      "source": [
        "all_years_p = [MAP2004, MAP2005, MAP2006, MAP2007, MAP2008, MAP2009, MAP2010, MAP2011, MAP2012, MAP2013, MAP2014, MAP2015, MAP2016, MAP2017]"
      ],
      "execution_count": 20,
      "outputs": []
    },
    {
      "cell_type": "code",
      "metadata": {
        "id": "nE9ULVDKnOjZ"
      },
      "source": [
        "year = 2004\n",
        "for i in all_years_p:\n",
        "  to_export = i.clip(conus.geometry()).toDouble()\n",
        "\n",
        "  task_config = {\n",
        "          'region': conus.geometry(),\n",
        "          'fileFormat': 'GeoTIFF',\n",
        "          'fileNamePrefix': 'ET_AprMay_'+ str(year), #change the name to reflect parameters\n",
        "          'image': to_export,\n",
        "          'description': 'ET_AprMay_'+str(year),\n",
        "          'scale': 500,\n",
        "          'maxPixels': 10000000000000,\n",
        "          'crs':'EPSG:4326'\n",
        "      }\n",
        "\n",
        "  task=ee.batch.Export.image.toDrive(**task_config)\n",
        "  task.start()\n",
        "\n",
        "  year += 1"
      ],
      "execution_count": 21,
      "outputs": []
    },
    {
      "cell_type": "markdown",
      "metadata": {
        "id": "0K1JUc-FCbPs"
      },
      "source": [
        "##**Annual PET (MODIS)**"
      ]
    },
    {
      "cell_type": "code",
      "metadata": {
        "id": "gGzJZPC8CbPu"
      },
      "source": [
        "def annualSum_PET(startyear,stopyear):\n",
        "  start = str(startyear) +\"-10-01\"\n",
        "  stop = str(stopyear)+\"-09-30\"\n",
        "  modis_pet = ee.ImageCollection(\"MODIS/006/MOD16A2\").select('PET').filterDate(start, stop)\n",
        "\n",
        "  pet = modis_pet.reduce(**{\n",
        "    'reducer': ee.Reducer.sum(),\n",
        "  })\n",
        "\n",
        "  pet = pet.divide(10)\n",
        "\n",
        "  return pet"
      ],
      "execution_count": null,
      "outputs": []
    },
    {
      "cell_type": "code",
      "metadata": {
        "id": "hZ8InpI0CbPu"
      },
      "source": [
        "MAP2004 = annualSum_PET(2003,2004)\n",
        "MAP2005 = annualSum_PET(2004,2005)\n",
        "MAP2006 = annualSum_PET(2005,2006)\n",
        "MAP2007 = annualSum_PET(2006,2007)\n",
        "MAP2008 = annualSum_PET(2007,2008)\n",
        "MAP2009 = annualSum_PET(2008,2009)\n",
        "MAP2010 = annualSum_PET(2009,2010)\n",
        "MAP2011 = annualSum_PET(2010,2011)\n",
        "MAP2012 = annualSum_PET(2011,2012)\n",
        "MAP2013 = annualSum_PET(2012,2013)\n",
        "MAP2014 = annualSum_PET(2013,2014)\n",
        "MAP2015 = annualSum_PET(2014,2015)\n",
        "MAP2016 = annualSum_PET(2015,2016)\n",
        "MAP2017 = annualSum_PET(2016,2017)\n",
        "\n"
      ],
      "execution_count": null,
      "outputs": []
    },
    {
      "cell_type": "code",
      "metadata": {
        "id": "zIqKdkDEChF_"
      },
      "source": [
        "all_years_p = [MAP2004, MAP2005, MAP2006, MAP2007, MAP2008, MAP2009, MAP2010, MAP2011, MAP2012, MAP2013, MAP2014, MAP2015, MAP2016, MAP2017]"
      ],
      "execution_count": null,
      "outputs": []
    },
    {
      "cell_type": "code",
      "metadata": {
        "id": "vEe4PCZTChGA"
      },
      "source": [
        "year = 2004\n",
        "for i in all_years_p:\n",
        "  to_export = i.clip(conus.geometry()).toDouble()\n",
        "\n",
        "  task_config = {\n",
        "          'region': conus.geometry(),\n",
        "          'fileFormat': 'GeoTIFF',\n",
        "          'fileNamePrefix': 'PET'+ str(year), #change the name to reflect parameters\n",
        "          'image': to_export,\n",
        "          'description': str(year),\n",
        "          'scale': 500,\n",
        "          'maxPixels': 10000000000000,\n",
        "          'crs':'EPSG:4326'\n",
        "      }\n",
        "\n",
        "  task=ee.batch.Export.image.toDrive(**task_config)\n",
        "  task.start()\n",
        "\n",
        "  year += 1"
      ],
      "execution_count": null,
      "outputs": []
    },
    {
      "cell_type": "markdown",
      "metadata": {
        "id": "gB8_aUcTD7fl"
      },
      "source": [
        "##**Mean annual PET (MODIS)**"
      ]
    },
    {
      "cell_type": "code",
      "metadata": {
        "id": "yuXh1LFBEkUw"
      },
      "source": [
        "def annualSum_PET(startyear,stopyear):\n",
        "  start = str(startyear) +\"-10-01\"\n",
        "  stop = str(stopyear)+\"-09-30\"\n",
        "  modis_pet = ee.ImageCollection(\"MODIS/006/MOD16A2\").select('PET').filterDate(start, stop)\n",
        "\n",
        "  pet = modis_pet.reduce(**{\n",
        "    'reducer': ee.Reducer.sum(),\n",
        "  })\n",
        "\n",
        "  pet = pet.divide(10)\n",
        "\n",
        "  return pet"
      ],
      "execution_count": null,
      "outputs": []
    },
    {
      "cell_type": "code",
      "metadata": {
        "id": "sct5BvhPEP7w"
      },
      "source": [
        "MAP2004 = annualSum_PET(2003,2004)\n",
        "MAP2005 = annualSum_PET(2004,2005)\n",
        "MAP2006 = annualSum_PET(2005,2006)\n",
        "MAP2007 = annualSum_PET(2006,2007)\n",
        "MAP2008 = annualSum_PET(2007,2008)\n",
        "MAP2009 = annualSum_PET(2008,2009)\n",
        "MAP2010 = annualSum_PET(2009,2010)\n",
        "MAP2011 = annualSum_PET(2010,2011)\n",
        "MAP2012 = annualSum_PET(2011,2012)\n",
        "MAP2013 = annualSum_PET(2012,2013)\n",
        "MAP2014 = annualSum_PET(2013,2014)\n",
        "MAP2015 = annualSum_PET(2014,2015)\n",
        "MAP2016 = annualSum_PET(2015,2016)\n",
        "MAP2017 = annualSum_PET(2016,2017)\n",
        "\n"
      ],
      "execution_count": null,
      "outputs": []
    },
    {
      "cell_type": "code",
      "metadata": {
        "id": "gUiXHeNYE0zP"
      },
      "source": [
        "# Combine images from each year into an image collection with all years\n",
        "MAP = ee.ImageCollection([MAP2004, MAP2005, MAP2006, MAP2007, MAP2008, MAP2009, MAP2010, MAP2011, MAP2012, MAP2013, MAP2014, MAP2015, MAP2016, MAP2017])"
      ],
      "execution_count": null,
      "outputs": []
    },
    {
      "cell_type": "code",
      "metadata": {
        "id": "o-FQ7GL6E0zP"
      },
      "source": [
        "# Get the mean of each cumulative annual precip\n",
        "MAP_Mean = MAP.reduce(**{\n",
        "    'reducer': ee.Reducer.mean(),\n",
        "  })"
      ],
      "execution_count": null,
      "outputs": []
    },
    {
      "cell_type": "code",
      "metadata": {
        "id": "asOk5g-IE0zQ"
      },
      "source": [
        "task_config = {\n",
        "        'region': conus.geometry(),\n",
        "        'fileFormat': 'GeoTIFF',\n",
        "        'fileNamePrefix': 'mean_annual_pet_modis', #change the name to reflect parameters\n",
        "        'image': MAP_Mean.clip(conus.geometry()).toDouble(),\n",
        "        'description': 'mean_annual_pet_modis',\n",
        "        'scale': 500,\n",
        "        'maxPixels': 10000000000000,\n",
        "        'crs':'EPSG:4326'\n",
        "    }\n",
        "\n",
        "task=ee.batch.Export.image.toDrive(**task_config)\n",
        "task.start()"
      ],
      "execution_count": null,
      "outputs": []
    },
    {
      "cell_type": "markdown",
      "metadata": {
        "id": "qtBQmhdpR_d2"
      },
      "source": [
        "##**Biomass**"
      ]
    },
    {
      "cell_type": "code",
      "metadata": {
        "id": "hoa5LHFhSE_V"
      },
      "source": [
        "# Note this is from erica.elmstead's gee account\n",
        "biomass = ee.Image('users/ericaelmstead/Aboveground_Biomass_US')\n",
        "\n",
        "task_config = {\n",
        "        'region': conus.geometry(),\n",
        "        'fileFormat': 'GeoTIFF',\n",
        "        'fileNamePrefix': 'biomass', #change the name to reflect parameters\n",
        "        'image': biomass.clip(conus.geometry()).toDouble(),\n",
        "        'description': 'biomass',\n",
        "        'scale': 500,\n",
        "        'maxPixels': 10000000000000,\n",
        "        'crs':'EPSG:4326'\n",
        "    }\n",
        "\n",
        "task=ee.batch.Export.image.toDrive(**task_config)\n",
        "task.start()"
      ],
      "execution_count": null,
      "outputs": []
    },
    {
      "cell_type": "markdown",
      "metadata": {
        "id": "UeDwxndVSFwW"
      },
      "source": [
        "##**Avg # of days of snow cover >10% and mean annual PET available already from previous analysis**"
      ]
    },
    {
      "cell_type": "code",
      "metadata": {
        "id": "05DsQ6E6SIOc"
      },
      "source": [
        ""
      ],
      "execution_count": null,
      "outputs": []
    }
  ]
}