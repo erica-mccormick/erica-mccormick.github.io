{
  "nbformat": 4,
  "nbformat_minor": 0,
  "metadata": {
    "colab": {
      "name": "cross_sections.ipynb",
      "provenance": [],
      "collapsed_sections": [
        "9FB-dFnKZ9ox"
      ],
      "include_colab_link": true
    },
    "kernelspec": {
      "name": "python3",
      "display_name": "Python 3"
    },
    "language_info": {
      "name": "python"
    },
    "widgets": {
      "application/vnd.jupyter.widget-state+json": {
        "8334e0874303450c86e790b683e2302d": {
          "model_module": "@jupyter-widgets/controls",
          "model_name": "VBoxModel",
          "state": {
            "_view_name": "VBoxView",
            "_dom_classes": [
              "widget-interact"
            ],
            "_model_name": "VBoxModel",
            "_view_module": "@jupyter-widgets/controls",
            "_model_module_version": "1.5.0",
            "_view_count": null,
            "_view_module_version": "1.5.0",
            "box_style": "",
            "layout": "IPY_MODEL_cfcf97b2a0d043a39553ca73b20f20b1",
            "_model_module": "@jupyter-widgets/controls",
            "children": [
              "IPY_MODEL_784e886836524c588ed6d2a70616df4b",
              "IPY_MODEL_dff32ec443dd491d91f76441c596f597",
              "IPY_MODEL_128bb3828efc44ae956d335b45aaf3d9",
              "IPY_MODEL_0161a086393b42aab62198a1f53f42ea",
              "IPY_MODEL_4396d0236f9c431ea7c75050a2a34cfa",
              "IPY_MODEL_6cb7614ba8624ca69fb184e3d78d5530",
              "IPY_MODEL_7e8af27f22444b83ad6a258114d5d989"
            ]
          }
        },
        "cfcf97b2a0d043a39553ca73b20f20b1": {
          "model_module": "@jupyter-widgets/base",
          "model_name": "LayoutModel",
          "state": {
            "_view_name": "LayoutView",
            "grid_template_rows": null,
            "right": null,
            "justify_content": null,
            "_view_module": "@jupyter-widgets/base",
            "overflow": null,
            "_model_module_version": "1.2.0",
            "_view_count": null,
            "flex_flow": null,
            "width": null,
            "min_width": null,
            "border": null,
            "align_items": null,
            "bottom": null,
            "_model_module": "@jupyter-widgets/base",
            "top": null,
            "grid_column": null,
            "overflow_y": null,
            "overflow_x": null,
            "grid_auto_flow": null,
            "grid_area": null,
            "grid_template_columns": null,
            "flex": null,
            "_model_name": "LayoutModel",
            "justify_items": null,
            "grid_row": null,
            "max_height": null,
            "align_content": null,
            "visibility": null,
            "align_self": null,
            "height": null,
            "min_height": null,
            "padding": null,
            "grid_auto_rows": null,
            "grid_gap": null,
            "max_width": null,
            "order": null,
            "_view_module_version": "1.2.0",
            "grid_template_areas": null,
            "object_position": null,
            "object_fit": null,
            "grid_auto_columns": null,
            "margin": null,
            "display": null,
            "left": null
          }
        },
        "784e886836524c588ed6d2a70616df4b": {
          "model_module": "@jupyter-widgets/controls",
          "model_name": "CheckboxModel",
          "state": {
            "_view_name": "CheckboxView",
            "style": "IPY_MODEL_0525c040bd1046bb939f4616bdc8a1d5",
            "_dom_classes": [],
            "description": "PET_Har",
            "_model_name": "CheckboxModel",
            "_view_module": "@jupyter-widgets/controls",
            "_model_module_version": "1.5.0",
            "value": true,
            "_view_count": null,
            "disabled": false,
            "_view_module_version": "1.5.0",
            "indent": true,
            "description_tooltip": null,
            "_model_module": "@jupyter-widgets/controls",
            "layout": "IPY_MODEL_e9e9c13a1e844011beb6cdd85e498a5d"
          }
        },
        "dff32ec443dd491d91f76441c596f597": {
          "model_module": "@jupyter-widgets/controls",
          "model_name": "CheckboxModel",
          "state": {
            "_view_name": "CheckboxView",
            "style": "IPY_MODEL_8c33f86841e34bff8eb8a74bf9e6c21b",
            "_dom_classes": [],
            "description": "PET_over_P",
            "_model_name": "CheckboxModel",
            "_view_module": "@jupyter-widgets/controls",
            "_model_module_version": "1.5.0",
            "value": true,
            "_view_count": null,
            "disabled": false,
            "_view_module_version": "1.5.0",
            "indent": true,
            "description_tooltip": null,
            "_model_module": "@jupyter-widgets/controls",
            "layout": "IPY_MODEL_eb1f62271b154458ba1e889fddb60213"
          }
        },
        "128bb3828efc44ae956d335b45aaf3d9": {
          "model_module": "@jupyter-widgets/controls",
          "model_name": "CheckboxModel",
          "state": {
            "_view_name": "CheckboxView",
            "style": "IPY_MODEL_faf9c9e2692b42f4bd15c97eb1b64076",
            "_dom_classes": [],
            "description": "Biomass",
            "_model_name": "CheckboxModel",
            "_view_module": "@jupyter-widgets/controls",
            "_model_module_version": "1.5.0",
            "value": true,
            "_view_count": null,
            "disabled": false,
            "_view_module_version": "1.5.0",
            "indent": true,
            "description_tooltip": null,
            "_model_module": "@jupyter-widgets/controls",
            "layout": "IPY_MODEL_60ebfa6b4d40471a8bd81f06badf8ea3"
          }
        },
        "0161a086393b42aab62198a1f53f42ea": {
          "model_module": "@jupyter-widgets/controls",
          "model_name": "CheckboxModel",
          "state": {
            "_view_name": "CheckboxView",
            "style": "IPY_MODEL_cbf8ab270f3c48ddad9a3631b602745d",
            "_dom_classes": [],
            "description": "Lithology",
            "_model_name": "CheckboxModel",
            "_view_module": "@jupyter-widgets/controls",
            "_model_module_version": "1.5.0",
            "value": true,
            "_view_count": null,
            "disabled": false,
            "_view_module_version": "1.5.0",
            "indent": true,
            "description_tooltip": null,
            "_model_module": "@jupyter-widgets/controls",
            "layout": "IPY_MODEL_3ec0c7eb848f423a90c7d6e7b28bca4c"
          }
        },
        "4396d0236f9c431ea7c75050a2a34cfa": {
          "model_module": "@jupyter-widgets/controls",
          "model_name": "CheckboxModel",
          "state": {
            "_view_name": "CheckboxView",
            "style": "IPY_MODEL_8ab05bcebf9b4a3f9466c74193ecccf9",
            "_dom_classes": [],
            "description": "SRTM_250m",
            "_model_name": "CheckboxModel",
            "_view_module": "@jupyter-widgets/controls",
            "_model_module_version": "1.5.0",
            "value": true,
            "_view_count": null,
            "disabled": false,
            "_view_module_version": "1.5.0",
            "indent": true,
            "description_tooltip": null,
            "_model_module": "@jupyter-widgets/controls",
            "layout": "IPY_MODEL_2e0e3147a7f74f27a903262bb339624a"
          }
        },
        "6cb7614ba8624ca69fb184e3d78d5530": {
          "model_module": "@jupyter-widgets/controls",
          "model_name": "CheckboxModel",
          "state": {
            "_view_name": "CheckboxView",
            "style": "IPY_MODEL_bfad9dcf30b140f990555df303c7b4de",
            "_dom_classes": [],
            "description": "Dmax_2010",
            "_model_name": "CheckboxModel",
            "_view_module": "@jupyter-widgets/controls",
            "_model_module_version": "1.5.0",
            "value": true,
            "_view_count": null,
            "disabled": false,
            "_view_module_version": "1.5.0",
            "indent": true,
            "description_tooltip": null,
            "_model_module": "@jupyter-widgets/controls",
            "layout": "IPY_MODEL_2e29e14d560744ba869eb78af541a3ca"
          }
        },
        "7e8af27f22444b83ad6a258114d5d989": {
          "model_module": "@jupyter-widgets/output",
          "model_name": "OutputModel",
          "state": {
            "_view_name": "OutputView",
            "msg_id": "",
            "_dom_classes": [],
            "_model_name": "OutputModel",
            "outputs": [],
            "_view_module": "@jupyter-widgets/output",
            "_model_module_version": "1.0.0",
            "_view_count": null,
            "_view_module_version": "1.0.0",
            "layout": "IPY_MODEL_a00de6a8f50740ab95291d50955244d7",
            "_model_module": "@jupyter-widgets/output"
          }
        },
        "0525c040bd1046bb939f4616bdc8a1d5": {
          "model_module": "@jupyter-widgets/controls",
          "model_name": "DescriptionStyleModel",
          "state": {
            "_view_name": "StyleView",
            "_model_name": "DescriptionStyleModel",
            "description_width": "",
            "_view_module": "@jupyter-widgets/base",
            "_model_module_version": "1.5.0",
            "_view_count": null,
            "_view_module_version": "1.2.0",
            "_model_module": "@jupyter-widgets/controls"
          }
        },
        "e9e9c13a1e844011beb6cdd85e498a5d": {
          "model_module": "@jupyter-widgets/base",
          "model_name": "LayoutModel",
          "state": {
            "_view_name": "LayoutView",
            "grid_template_rows": null,
            "right": null,
            "justify_content": null,
            "_view_module": "@jupyter-widgets/base",
            "overflow": null,
            "_model_module_version": "1.2.0",
            "_view_count": null,
            "flex_flow": null,
            "width": null,
            "min_width": null,
            "border": null,
            "align_items": null,
            "bottom": null,
            "_model_module": "@jupyter-widgets/base",
            "top": null,
            "grid_column": null,
            "overflow_y": null,
            "overflow_x": null,
            "grid_auto_flow": null,
            "grid_area": null,
            "grid_template_columns": null,
            "flex": null,
            "_model_name": "LayoutModel",
            "justify_items": null,
            "grid_row": null,
            "max_height": null,
            "align_content": null,
            "visibility": null,
            "align_self": null,
            "height": null,
            "min_height": null,
            "padding": null,
            "grid_auto_rows": null,
            "grid_gap": null,
            "max_width": null,
            "order": null,
            "_view_module_version": "1.2.0",
            "grid_template_areas": null,
            "object_position": null,
            "object_fit": null,
            "grid_auto_columns": null,
            "margin": null,
            "display": null,
            "left": null
          }
        },
        "8c33f86841e34bff8eb8a74bf9e6c21b": {
          "model_module": "@jupyter-widgets/controls",
          "model_name": "DescriptionStyleModel",
          "state": {
            "_view_name": "StyleView",
            "_model_name": "DescriptionStyleModel",
            "description_width": "",
            "_view_module": "@jupyter-widgets/base",
            "_model_module_version": "1.5.0",
            "_view_count": null,
            "_view_module_version": "1.2.0",
            "_model_module": "@jupyter-widgets/controls"
          }
        },
        "eb1f62271b154458ba1e889fddb60213": {
          "model_module": "@jupyter-widgets/base",
          "model_name": "LayoutModel",
          "state": {
            "_view_name": "LayoutView",
            "grid_template_rows": null,
            "right": null,
            "justify_content": null,
            "_view_module": "@jupyter-widgets/base",
            "overflow": null,
            "_model_module_version": "1.2.0",
            "_view_count": null,
            "flex_flow": null,
            "width": null,
            "min_width": null,
            "border": null,
            "align_items": null,
            "bottom": null,
            "_model_module": "@jupyter-widgets/base",
            "top": null,
            "grid_column": null,
            "overflow_y": null,
            "overflow_x": null,
            "grid_auto_flow": null,
            "grid_area": null,
            "grid_template_columns": null,
            "flex": null,
            "_model_name": "LayoutModel",
            "justify_items": null,
            "grid_row": null,
            "max_height": null,
            "align_content": null,
            "visibility": null,
            "align_self": null,
            "height": null,
            "min_height": null,
            "padding": null,
            "grid_auto_rows": null,
            "grid_gap": null,
            "max_width": null,
            "order": null,
            "_view_module_version": "1.2.0",
            "grid_template_areas": null,
            "object_position": null,
            "object_fit": null,
            "grid_auto_columns": null,
            "margin": null,
            "display": null,
            "left": null
          }
        },
        "faf9c9e2692b42f4bd15c97eb1b64076": {
          "model_module": "@jupyter-widgets/controls",
          "model_name": "DescriptionStyleModel",
          "state": {
            "_view_name": "StyleView",
            "_model_name": "DescriptionStyleModel",
            "description_width": "",
            "_view_module": "@jupyter-widgets/base",
            "_model_module_version": "1.5.0",
            "_view_count": null,
            "_view_module_version": "1.2.0",
            "_model_module": "@jupyter-widgets/controls"
          }
        },
        "60ebfa6b4d40471a8bd81f06badf8ea3": {
          "model_module": "@jupyter-widgets/base",
          "model_name": "LayoutModel",
          "state": {
            "_view_name": "LayoutView",
            "grid_template_rows": null,
            "right": null,
            "justify_content": null,
            "_view_module": "@jupyter-widgets/base",
            "overflow": null,
            "_model_module_version": "1.2.0",
            "_view_count": null,
            "flex_flow": null,
            "width": null,
            "min_width": null,
            "border": null,
            "align_items": null,
            "bottom": null,
            "_model_module": "@jupyter-widgets/base",
            "top": null,
            "grid_column": null,
            "overflow_y": null,
            "overflow_x": null,
            "grid_auto_flow": null,
            "grid_area": null,
            "grid_template_columns": null,
            "flex": null,
            "_model_name": "LayoutModel",
            "justify_items": null,
            "grid_row": null,
            "max_height": null,
            "align_content": null,
            "visibility": null,
            "align_self": null,
            "height": null,
            "min_height": null,
            "padding": null,
            "grid_auto_rows": null,
            "grid_gap": null,
            "max_width": null,
            "order": null,
            "_view_module_version": "1.2.0",
            "grid_template_areas": null,
            "object_position": null,
            "object_fit": null,
            "grid_auto_columns": null,
            "margin": null,
            "display": null,
            "left": null
          }
        },
        "cbf8ab270f3c48ddad9a3631b602745d": {
          "model_module": "@jupyter-widgets/controls",
          "model_name": "DescriptionStyleModel",
          "state": {
            "_view_name": "StyleView",
            "_model_name": "DescriptionStyleModel",
            "description_width": "",
            "_view_module": "@jupyter-widgets/base",
            "_model_module_version": "1.5.0",
            "_view_count": null,
            "_view_module_version": "1.2.0",
            "_model_module": "@jupyter-widgets/controls"
          }
        },
        "3ec0c7eb848f423a90c7d6e7b28bca4c": {
          "model_module": "@jupyter-widgets/base",
          "model_name": "LayoutModel",
          "state": {
            "_view_name": "LayoutView",
            "grid_template_rows": null,
            "right": null,
            "justify_content": null,
            "_view_module": "@jupyter-widgets/base",
            "overflow": null,
            "_model_module_version": "1.2.0",
            "_view_count": null,
            "flex_flow": null,
            "width": null,
            "min_width": null,
            "border": null,
            "align_items": null,
            "bottom": null,
            "_model_module": "@jupyter-widgets/base",
            "top": null,
            "grid_column": null,
            "overflow_y": null,
            "overflow_x": null,
            "grid_auto_flow": null,
            "grid_area": null,
            "grid_template_columns": null,
            "flex": null,
            "_model_name": "LayoutModel",
            "justify_items": null,
            "grid_row": null,
            "max_height": null,
            "align_content": null,
            "visibility": null,
            "align_self": null,
            "height": null,
            "min_height": null,
            "padding": null,
            "grid_auto_rows": null,
            "grid_gap": null,
            "max_width": null,
            "order": null,
            "_view_module_version": "1.2.0",
            "grid_template_areas": null,
            "object_position": null,
            "object_fit": null,
            "grid_auto_columns": null,
            "margin": null,
            "display": null,
            "left": null
          }
        },
        "8ab05bcebf9b4a3f9466c74193ecccf9": {
          "model_module": "@jupyter-widgets/controls",
          "model_name": "DescriptionStyleModel",
          "state": {
            "_view_name": "StyleView",
            "_model_name": "DescriptionStyleModel",
            "description_width": "",
            "_view_module": "@jupyter-widgets/base",
            "_model_module_version": "1.5.0",
            "_view_count": null,
            "_view_module_version": "1.2.0",
            "_model_module": "@jupyter-widgets/controls"
          }
        },
        "2e0e3147a7f74f27a903262bb339624a": {
          "model_module": "@jupyter-widgets/base",
          "model_name": "LayoutModel",
          "state": {
            "_view_name": "LayoutView",
            "grid_template_rows": null,
            "right": null,
            "justify_content": null,
            "_view_module": "@jupyter-widgets/base",
            "overflow": null,
            "_model_module_version": "1.2.0",
            "_view_count": null,
            "flex_flow": null,
            "width": null,
            "min_width": null,
            "border": null,
            "align_items": null,
            "bottom": null,
            "_model_module": "@jupyter-widgets/base",
            "top": null,
            "grid_column": null,
            "overflow_y": null,
            "overflow_x": null,
            "grid_auto_flow": null,
            "grid_area": null,
            "grid_template_columns": null,
            "flex": null,
            "_model_name": "LayoutModel",
            "justify_items": null,
            "grid_row": null,
            "max_height": null,
            "align_content": null,
            "visibility": null,
            "align_self": null,
            "height": null,
            "min_height": null,
            "padding": null,
            "grid_auto_rows": null,
            "grid_gap": null,
            "max_width": null,
            "order": null,
            "_view_module_version": "1.2.0",
            "grid_template_areas": null,
            "object_position": null,
            "object_fit": null,
            "grid_auto_columns": null,
            "margin": null,
            "display": null,
            "left": null
          }
        },
        "bfad9dcf30b140f990555df303c7b4de": {
          "model_module": "@jupyter-widgets/controls",
          "model_name": "DescriptionStyleModel",
          "state": {
            "_view_name": "StyleView",
            "_model_name": "DescriptionStyleModel",
            "description_width": "",
            "_view_module": "@jupyter-widgets/base",
            "_model_module_version": "1.5.0",
            "_view_count": null,
            "_view_module_version": "1.2.0",
            "_model_module": "@jupyter-widgets/controls"
          }
        },
        "2e29e14d560744ba869eb78af541a3ca": {
          "model_module": "@jupyter-widgets/base",
          "model_name": "LayoutModel",
          "state": {
            "_view_name": "LayoutView",
            "grid_template_rows": null,
            "right": null,
            "justify_content": null,
            "_view_module": "@jupyter-widgets/base",
            "overflow": null,
            "_model_module_version": "1.2.0",
            "_view_count": null,
            "flex_flow": null,
            "width": null,
            "min_width": null,
            "border": null,
            "align_items": null,
            "bottom": null,
            "_model_module": "@jupyter-widgets/base",
            "top": null,
            "grid_column": null,
            "overflow_y": null,
            "overflow_x": null,
            "grid_auto_flow": null,
            "grid_area": null,
            "grid_template_columns": null,
            "flex": null,
            "_model_name": "LayoutModel",
            "justify_items": null,
            "grid_row": null,
            "max_height": null,
            "align_content": null,
            "visibility": null,
            "align_self": null,
            "height": null,
            "min_height": null,
            "padding": null,
            "grid_auto_rows": null,
            "grid_gap": null,
            "max_width": null,
            "order": null,
            "_view_module_version": "1.2.0",
            "grid_template_areas": null,
            "object_position": null,
            "object_fit": null,
            "grid_auto_columns": null,
            "margin": null,
            "display": null,
            "left": null
          }
        },
        "a00de6a8f50740ab95291d50955244d7": {
          "model_module": "@jupyter-widgets/base",
          "model_name": "LayoutModel",
          "state": {
            "_view_name": "LayoutView",
            "grid_template_rows": null,
            "right": null,
            "justify_content": null,
            "_view_module": "@jupyter-widgets/base",
            "overflow": null,
            "_model_module_version": "1.2.0",
            "_view_count": null,
            "flex_flow": null,
            "width": null,
            "min_width": null,
            "border": null,
            "align_items": null,
            "bottom": null,
            "_model_module": "@jupyter-widgets/base",
            "top": null,
            "grid_column": null,
            "overflow_y": null,
            "overflow_x": null,
            "grid_auto_flow": null,
            "grid_area": null,
            "grid_template_columns": null,
            "flex": null,
            "_model_name": "LayoutModel",
            "justify_items": null,
            "grid_row": null,
            "max_height": null,
            "align_content": null,
            "visibility": null,
            "align_self": null,
            "height": null,
            "min_height": null,
            "padding": null,
            "grid_auto_rows": null,
            "grid_gap": null,
            "max_width": null,
            "order": null,
            "_view_module_version": "1.2.0",
            "grid_template_areas": null,
            "object_position": null,
            "object_fit": null,
            "grid_auto_columns": null,
            "margin": null,
            "display": null,
            "left": null
          }
        }
      }
    }
  },
  "cells": [
    {
      "cell_type": "markdown",
      "metadata": {
        "id": "view-in-github",
        "colab_type": "text"
      },
      "source": [
        "<a href=\"https://colab.research.google.com/github/erica-mccormick/erica-mccormick.github.io/blob/main/cross_sections.ipynb\" target=\"_parent\"><img src=\"https://colab.research.google.com/assets/colab-badge.svg\" alt=\"Open In Colab\"/></a>"
      ]
    },
    {
      "cell_type": "markdown",
      "metadata": {
        "id": "EjeTrB7gT_hF"
      },
      "source": [
        "# **Create and Plot Cross Sections**"
      ]
    },
    {
      "cell_type": "code",
      "metadata": {
        "id": "XD-fP4dBmieh"
      },
      "source": [
        "import gdal\n",
        "import osr\n",
        "import matplotlib.pyplot as plt\n",
        "from numpy import arange, array, nonzero, in1d, abs, linspace, sqrt, pi\n",
        "import pandas as pd\n",
        "from matplotlib import gridspec\n",
        "from mpl_toolkits.axes_grid1 import make_axes_locatable\n",
        "import numpy as np\n",
        "from matplotlib.patches import Patch\n",
        "from matplotlib.lines import Line2D\n",
        "import warnings\n",
        "warnings.filterwarnings('ignore')"
      ],
      "execution_count": 65,
      "outputs": []
    },
    {
      "cell_type": "code",
      "metadata": {
        "colab": {
          "base_uri": "https://localhost:8080/"
        },
        "id": "q_eJbE13Pvxu",
        "outputId": "39e5f750-ca85-43a2-c7a9-74433b7bd30b"
      },
      "source": [
        "#UTEXAS EMAIL\n",
        "from google.colab import drive\n",
        "drive.mount('/content/drive')"
      ],
      "execution_count": 2,
      "outputs": [
        {
          "output_type": "stream",
          "text": [
            "Mounted at /content/drive\n"
          ],
          "name": "stdout"
        }
      ]
    },
    {
      "cell_type": "markdown",
      "metadata": {
        "id": "_brPbYTdUy7K"
      },
      "source": [
        "##**(1) Pick your path to the Nature -> Tiffs -> Final folder in GDrive**"
      ]
    },
    {
      "cell_type": "code",
      "metadata": {
        "id": "XHQbjZXlUqkd"
      },
      "source": [
        "path = '/content/drive/MyDrive/Rock moisture/RM1b_NatureReview/tiffs/final/'\n",
        "lithology_path = '/content/drive/MyDrive/Rock moisture/RM5_Lithology/'"
      ],
      "execution_count": 3,
      "outputs": []
    },
    {
      "cell_type": "markdown",
      "metadata": {
        "id": "9FB-dFnKZ9ox"
      },
      "source": [
        "#*PART 1: CREATE CROSS SECTIONS*\n",
        "Can also skip to plotting and pull in csvs, if you have them."
      ]
    },
    {
      "cell_type": "markdown",
      "metadata": {
        "id": "KgbfnpoTU3qu"
      },
      "source": [
        "##**(2) Choose which rasters you would xsections from. Note that if you choose all of them, it will take ~20 mins per pair of points.**"
      ]
    },
    {
      "cell_type": "code",
      "metadata": {
        "colab": {
          "base_uri": "https://localhost:8080/",
          "height": 242,
          "referenced_widgets": [
            "8334e0874303450c86e790b683e2302d",
            "cfcf97b2a0d043a39553ca73b20f20b1",
            "784e886836524c588ed6d2a70616df4b",
            "dff32ec443dd491d91f76441c596f597",
            "128bb3828efc44ae956d335b45aaf3d9",
            "0161a086393b42aab62198a1f53f42ea",
            "4396d0236f9c431ea7c75050a2a34cfa",
            "6cb7614ba8624ca69fb184e3d78d5530",
            "7e8af27f22444b83ad6a258114d5d989",
            "0525c040bd1046bb939f4616bdc8a1d5",
            "e9e9c13a1e844011beb6cdd85e498a5d",
            "8c33f86841e34bff8eb8a74bf9e6c21b",
            "eb1f62271b154458ba1e889fddb60213",
            "faf9c9e2692b42f4bd15c97eb1b64076",
            "60ebfa6b4d40471a8bd81f06badf8ea3",
            "cbf8ab270f3c48ddad9a3631b602745d",
            "3ec0c7eb848f423a90c7d6e7b28bca4c",
            "8ab05bcebf9b4a3f9466c74193ecccf9",
            "2e0e3147a7f74f27a903262bb339624a",
            "bfad9dcf30b140f990555df303c7b4de",
            "2e29e14d560744ba869eb78af541a3ca",
            "a00de6a8f50740ab95291d50955244d7"
          ]
        },
        "id": "mJWe5JCGK8aL",
        "outputId": "83c4509f-83a8-44cd-c66c-b28a7cd786b7"
      },
      "source": [
        "from __future__ import print_function\n",
        "from ipywidgets import interact, interactive, fixed, interact_manual\n",
        "import ipywidgets as widgets\n",
        "from IPython.display import display\n",
        "\n",
        "def choose_data(PET_Har, PET_over_P, Biomass, Lithology, SRTM_250m, Dmax_2010):\n",
        "    return PET_Har, PET_over_P, Biomass, Lithology, SRTM_250m, Dmax_2010\n",
        "\n",
        "w = interactive(choose_data, PET_Har=True, PET_over_P=True, Biomass=True, Lithology=True, SRTM_250m=True, Dmax_2010=True)\n",
        "\n",
        "print('\\nWhat variables would you like to extract?')\n",
        "\n",
        "display(w)"
      ],
      "execution_count": null,
      "outputs": [
        {
          "output_type": "stream",
          "text": [
            "\n",
            "What variables would you like to extract?\n"
          ],
          "name": "stdout"
        },
        {
          "output_type": "display_data",
          "data": {
            "application/vnd.jupyter.widget-view+json": {
              "model_id": "8334e0874303450c86e790b683e2302d",
              "version_minor": 0,
              "version_major": 2
            },
            "text/plain": [
              "interactive(children=(Checkbox(value=True, description='PET_Har'), Checkbox(value=True, description='PET_over_…"
            ]
          },
          "metadata": {
            "tags": []
          }
        }
      ]
    },
    {
      "cell_type": "markdown",
      "metadata": {
        "id": "7maWA5OUVvrW"
      },
      "source": [
        "##**(3) Run the necessary functions**"
      ]
    },
    {
      "cell_type": "code",
      "metadata": {
        "id": "PQ1jZ_EnPvJG"
      },
      "source": [
        "dmax = path+'deficits/dmax_nomask/Dmax_2010_NoMask.tif'\n",
        "pet_p = path+'products_used/PET:P/PET_P_2010.tif'\n",
        "biomass = path+'products_used/biomass.tif'\n",
        "pet = path+'products_used/pet_annual_hargreaves/2004_2007/2010.tif'\n",
        "lith = path+'products_used/lith_500_mode.tif'\n",
        "srtm_250 = path+'products_used/srtm_250m.tif'"
      ],
      "execution_count": null,
      "outputs": []
    },
    {
      "cell_type": "code",
      "metadata": {
        "id": "6cyPAS6BmgTZ"
      },
      "source": [
        "# This whole chunk modified from someone on StackOverflow that I can't find now\n",
        "\n",
        "def d2k(degrees, radius=6371):\n",
        "\n",
        "    return degrees * (2.0 * radius * pi / 360.0)\n",
        "\n",
        "# Find Nearest point in array\n",
        "\n",
        "def find_nearest(array,value):\n",
        "\n",
        "    idx = (abs(array-value)).argmin()\n",
        "\n",
        "    return idx\n",
        "\n",
        "def plot_cross_elv(raster=None, A=None, B=None, np=500):#y_label = None, \n",
        "\n",
        "    # Read raster data\n",
        "\n",
        "    ds = gdal.Open(raster, 0)\n",
        "    rb = ds.ReadAsArray()\n",
        "\n",
        "    # Get start/end point of the map in lon/lat\n",
        "\n",
        "    coords = ds.GetGeoTransform()\n",
        "\n",
        "    # Get lon/lat and elevation\n",
        "\n",
        "    lon = array([coords[0]+coords[1]*i for i in range(rb.shape[1])])\n",
        "    lat = array([coords[3]+coords[5]*i for i in range(rb.shape[0])])\n",
        "    elv = rb.flatten()\n",
        "\n",
        "    # Make pairs of (lon,lat)\n",
        "\n",
        "    points = array([array([x,y]) for y in lat for x in lon])\n",
        "\n",
        "    # Define Profile using lon/lat\n",
        "\n",
        "    ABx   = linspace(A[0],B[0],np)\n",
        "    ABy   = linspace(A[1],B[1],np)\n",
        "\n",
        "    profile = array([array([x,y]) for x,y in zip(ABx, ABy)])\n",
        "\n",
        "    # Find Nearest points of profile in Map and Prepare for plot\n",
        "\n",
        "    cross_dis = []\n",
        "    cross_elv = []\n",
        "\n",
        "    for p in profile:\n",
        "\n",
        "        lon_ind = find_nearest(lon,p[0])\n",
        "        lat_ind = find_nearest(lat,p[1])\n",
        "\n",
        "        x = lon[lon_ind]\n",
        "        y = lat[lat_ind]\n",
        "        d = sqrt(d2k(A[0]-x)**2+d2k(A[1]-y)**2)\n",
        "        h = rb[lat_ind][lon_ind]\n",
        "\n",
        "        cross_dis.append(d)\n",
        "        cross_elv.append(h)\n",
        "\n",
        "    return cross_dis, cross_elv"
      ],
      "execution_count": null,
      "outputs": []
    },
    {
      "cell_type": "code",
      "metadata": {
        "id": "OY-jdmRfNML9"
      },
      "source": [
        "def cross_df(A, B, w, np=500):\n",
        "  var_list = ['PET_Har', 'PET_over_P', 'Biomass', 'Lithology', 'SRTM_250m','Dmax_2010']\n",
        "  raster_list = [pet, pet_p, biomass, lith, srtm_250, dmax]\n",
        "  num_of_vars = len(var_list)\n",
        "  df = pd.DataFrame()\n",
        "  for i in range(num_of_vars):\n",
        "    if w.kwargs[var_list[i]] == True:\n",
        "      distance, elev = plot_cross_elv(raster=raster_list[i], A=A, B=B, np=np)\n",
        "      df[var_list[i]] = elev\n",
        "    else:\n",
        "      continue\n",
        "  df.index = distance\n",
        "  df['Biomass'] = df['Biomass'] / 10\n",
        "\n",
        "  return df"
      ],
      "execution_count": null,
      "outputs": []
    },
    {
      "cell_type": "markdown",
      "metadata": {
        "id": "2EQDEf70VzFu"
      },
      "source": [
        "##**(4) Specify long/lat pairs (A,B) and run cross_df to get a dataframe of the cross section 'elevation' and distance. You can also specify the number of points to use. Save the df if you would like. This step can take 20 minutes.**"
      ]
    },
    {
      "cell_type": "markdown",
      "metadata": {
        "id": "E_PzKeaco-1I"
      },
      "source": [
        "For a list of all endpoints, see [here](https://docs.google.com/spreadsheets/d/1ZiLppNXNEC7iT1e-qXyqwxk8HvALWUnMrKrPyReXJso/edit#gid=0)."
      ]
    },
    {
      "cell_type": "code",
      "metadata": {
        "id": "8KhimWc1VcMa"
      },
      "source": [
        "Rivendell = (-123.6433 ,39.7273)\n",
        "Sagehorn = (-123.477, 39.5745)\n",
        "\n",
        "A = (-123.732, 39.792)\n",
        "B = (-123.203, 39.344)\n",
        "\n",
        "C = (-117.838, 34.376)\n",
        "D = (-116.599, 33.741)"
      ],
      "execution_count": null,
      "outputs": []
    },
    {
      "cell_type": "code",
      "metadata": {
        "id": "0mOBl93VNsLy"
      },
      "source": [
        "df = cross_df(C, D, w)"
      ],
      "execution_count": null,
      "outputs": []
    },
    {
      "cell_type": "code",
      "metadata": {
        "colab": {
          "base_uri": "https://localhost:8080/",
          "height": 399
        },
        "id": "M5dFwFG7WJkx",
        "outputId": "2b875059-87f0-411c-f49e-a2b82d54141c"
      },
      "source": [
        "df"
      ],
      "execution_count": null,
      "outputs": [
        {
          "output_type": "execute_result",
          "data": {
            "text/html": [
              "<div>\n",
              "<style scoped>\n",
              "    .dataframe tbody tr th:only-of-type {\n",
              "        vertical-align: middle;\n",
              "    }\n",
              "\n",
              "    .dataframe tbody tr th {\n",
              "        vertical-align: top;\n",
              "    }\n",
              "\n",
              "    .dataframe thead th {\n",
              "        text-align: right;\n",
              "    }\n",
              "</style>\n",
              "<table border=\"1\" class=\"dataframe\">\n",
              "  <thead>\n",
              "    <tr style=\"text-align: right;\">\n",
              "      <th></th>\n",
              "      <th>PET_Har</th>\n",
              "      <th>PET_over_P</th>\n",
              "      <th>Biomass</th>\n",
              "      <th>Lithology</th>\n",
              "      <th>SRTM_250m</th>\n",
              "      <th>Dmax_2010</th>\n",
              "    </tr>\n",
              "  </thead>\n",
              "  <tbody>\n",
              "    <tr>\n",
              "      <th>0.274443</th>\n",
              "      <td>1191.734689</td>\n",
              "      <td>1.698438</td>\n",
              "      <td>43.4</td>\n",
              "      <td>175.0</td>\n",
              "      <td>1688.0</td>\n",
              "      <td>363.0</td>\n",
              "    </tr>\n",
              "    <tr>\n",
              "      <th>0.274443</th>\n",
              "      <td>1191.734689</td>\n",
              "      <td>1.698438</td>\n",
              "      <td>43.4</td>\n",
              "      <td>175.0</td>\n",
              "      <td>1635.0</td>\n",
              "      <td>363.0</td>\n",
              "    </tr>\n",
              "    <tr>\n",
              "      <th>0.700389</th>\n",
              "      <td>1191.734689</td>\n",
              "      <td>1.698438</td>\n",
              "      <td>67.5</td>\n",
              "      <td>175.0</td>\n",
              "      <td>1817.0</td>\n",
              "      <td>341.0</td>\n",
              "    </tr>\n",
              "    <tr>\n",
              "      <th>0.700389</th>\n",
              "      <td>1191.734689</td>\n",
              "      <td>1.698438</td>\n",
              "      <td>67.5</td>\n",
              "      <td>175.0</td>\n",
              "      <td>1891.0</td>\n",
              "      <td>341.0</td>\n",
              "    </tr>\n",
              "    <tr>\n",
              "      <th>1.368363</th>\n",
              "      <td>1191.734689</td>\n",
              "      <td>1.698438</td>\n",
              "      <td>19.6</td>\n",
              "      <td>175.0</td>\n",
              "      <td>1812.0</td>\n",
              "      <td>300.0</td>\n",
              "    </tr>\n",
              "    <tr>\n",
              "      <th>...</th>\n",
              "      <td>...</td>\n",
              "      <td>...</td>\n",
              "      <td>...</td>\n",
              "      <td>...</td>\n",
              "      <td>...</td>\n",
              "      <td>...</td>\n",
              "    </tr>\n",
              "    <tr>\n",
              "      <th>153.478062</th>\n",
              "      <td>1351.789530</td>\n",
              "      <td>3.537929</td>\n",
              "      <td>1.0</td>\n",
              "      <td>91.0</td>\n",
              "      <td>1278.0</td>\n",
              "      <td>324.0</td>\n",
              "    </tr>\n",
              "    <tr>\n",
              "      <th>153.922465</th>\n",
              "      <td>1351.789530</td>\n",
              "      <td>3.537929</td>\n",
              "      <td>7.2</td>\n",
              "      <td>91.0</td>\n",
              "      <td>1191.0</td>\n",
              "      <td>357.0</td>\n",
              "    </tr>\n",
              "    <tr>\n",
              "      <th>153.922465</th>\n",
              "      <td>1351.789530</td>\n",
              "      <td>3.537929</td>\n",
              "      <td>7.2</td>\n",
              "      <td>91.0</td>\n",
              "      <td>1171.0</td>\n",
              "      <td>357.0</td>\n",
              "    </tr>\n",
              "    <tr>\n",
              "      <th>154.594778</th>\n",
              "      <td>1351.789530</td>\n",
              "      <td>3.537929</td>\n",
              "      <td>21.6</td>\n",
              "      <td>91.0</td>\n",
              "      <td>1094.0</td>\n",
              "      <td>304.0</td>\n",
              "    </tr>\n",
              "    <tr>\n",
              "      <th>155.039198</th>\n",
              "      <td>1351.789530</td>\n",
              "      <td>3.537929</td>\n",
              "      <td>18.2</td>\n",
              "      <td>91.0</td>\n",
              "      <td>989.0</td>\n",
              "      <td>275.0</td>\n",
              "    </tr>\n",
              "  </tbody>\n",
              "</table>\n",
              "<p>500 rows × 6 columns</p>\n",
              "</div>"
            ],
            "text/plain": [
              "                PET_Har  PET_over_P  Biomass  Lithology  SRTM_250m  Dmax_2010\n",
              "0.274443    1191.734689    1.698438     43.4      175.0     1688.0      363.0\n",
              "0.274443    1191.734689    1.698438     43.4      175.0     1635.0      363.0\n",
              "0.700389    1191.734689    1.698438     67.5      175.0     1817.0      341.0\n",
              "0.700389    1191.734689    1.698438     67.5      175.0     1891.0      341.0\n",
              "1.368363    1191.734689    1.698438     19.6      175.0     1812.0      300.0\n",
              "...                 ...         ...      ...        ...        ...        ...\n",
              "153.478062  1351.789530    3.537929      1.0       91.0     1278.0      324.0\n",
              "153.922465  1351.789530    3.537929      7.2       91.0     1191.0      357.0\n",
              "153.922465  1351.789530    3.537929      7.2       91.0     1171.0      357.0\n",
              "154.594778  1351.789530    3.537929     21.6       91.0     1094.0      304.0\n",
              "155.039198  1351.789530    3.537929     18.2       91.0      989.0      275.0\n",
              "\n",
              "[500 rows x 6 columns]"
            ]
          },
          "metadata": {
            "tags": []
          },
          "execution_count": 22
        }
      ]
    },
    {
      "cell_type": "code",
      "metadata": {
        "id": "OloGz7jdtlKT"
      },
      "source": [
        "# Write the DataFrame to CSV file.\n",
        "with open('/content/drive/MyDrive/Rock moisture/RM5_Lithology/Data/cross_sections/C_D.csv', 'w') as f:\n",
        "  df.to_csv(f)"
      ],
      "execution_count": null,
      "outputs": []
    },
    {
      "cell_type": "markdown",
      "metadata": {
        "id": "ChOilwS4WmPo"
      },
      "source": [
        "#*PART 2: PLOT CROSS SECTIONS*"
      ]
    },
    {
      "cell_type": "markdown",
      "metadata": {
        "id": "SlbuZjv5h1sU"
      },
      "source": [
        "This will work for less than 11 lithology groups in a cross section. If you get a list length type error, add more colors to the color_map list."
      ]
    },
    {
      "cell_type": "code",
      "metadata": {
        "id": "nqVxvzdJin_M"
      },
      "source": [
        "# bring in lithology unique_id to unit_link key\n",
        "key = pd.read_csv(lithology_path+'Data/CA_unit_num/attribute_table.csv')"
      ],
      "execution_count": 115,
      "outputs": []
    },
    {
      "cell_type": "code",
      "metadata": {
        "id": "iyFNMc0Qh8LA"
      },
      "source": [
        "#df = pd.read_csv(lithology_path + 'Data/cross_sections/A_B.csv')\n",
        "df = pd.read_csv(lithology_path + 'Data/cross_sections/C_D.csv')"
      ],
      "execution_count": 127,
      "outputs": []
    },
    {
      "cell_type": "code",
      "metadata": {
        "id": "0TA0PHJ6bnDO"
      },
      "source": [
        "## If the index didn't carry through saving for some reason\n",
        "df['Distance'] = df['Unnamed: 0']\n",
        "df.index = df['Distance']\n",
        "del df['Unnamed: 0']"
      ],
      "execution_count": 128,
      "outputs": []
    },
    {
      "cell_type": "code",
      "metadata": {
        "colab": {
          "base_uri": "https://localhost:8080/",
          "height": 446
        },
        "id": "Dmj0nZ0ja_YN",
        "outputId": "18db63f4-e793-45d7-c5aa-384d0f3f0e59"
      },
      "source": [
        "df"
      ],
      "execution_count": 129,
      "outputs": [
        {
          "output_type": "execute_result",
          "data": {
            "text/html": [
              "<div>\n",
              "<style scoped>\n",
              "    .dataframe tbody tr th:only-of-type {\n",
              "        vertical-align: middle;\n",
              "    }\n",
              "\n",
              "    .dataframe tbody tr th {\n",
              "        vertical-align: top;\n",
              "    }\n",
              "\n",
              "    .dataframe thead th {\n",
              "        text-align: right;\n",
              "    }\n",
              "</style>\n",
              "<table border=\"1\" class=\"dataframe\">\n",
              "  <thead>\n",
              "    <tr style=\"text-align: right;\">\n",
              "      <th></th>\n",
              "      <th>PET_Har</th>\n",
              "      <th>PET_over_P</th>\n",
              "      <th>Biomass</th>\n",
              "      <th>Lithology</th>\n",
              "      <th>SRTM_250m</th>\n",
              "      <th>Dmax_2010</th>\n",
              "      <th>Distance</th>\n",
              "    </tr>\n",
              "    <tr>\n",
              "      <th>Distance</th>\n",
              "      <th></th>\n",
              "      <th></th>\n",
              "      <th></th>\n",
              "      <th></th>\n",
              "      <th></th>\n",
              "      <th></th>\n",
              "      <th></th>\n",
              "    </tr>\n",
              "  </thead>\n",
              "  <tbody>\n",
              "    <tr>\n",
              "      <th>0.274443</th>\n",
              "      <td>1191.734689</td>\n",
              "      <td>1.698438</td>\n",
              "      <td>43.4</td>\n",
              "      <td>175.0</td>\n",
              "      <td>1688.0</td>\n",
              "      <td>363.0</td>\n",
              "      <td>0.274443</td>\n",
              "    </tr>\n",
              "    <tr>\n",
              "      <th>0.274443</th>\n",
              "      <td>1191.734689</td>\n",
              "      <td>1.698438</td>\n",
              "      <td>43.4</td>\n",
              "      <td>175.0</td>\n",
              "      <td>1635.0</td>\n",
              "      <td>363.0</td>\n",
              "      <td>0.274443</td>\n",
              "    </tr>\n",
              "    <tr>\n",
              "      <th>0.700389</th>\n",
              "      <td>1191.734689</td>\n",
              "      <td>1.698438</td>\n",
              "      <td>67.5</td>\n",
              "      <td>175.0</td>\n",
              "      <td>1817.0</td>\n",
              "      <td>341.0</td>\n",
              "      <td>0.700389</td>\n",
              "    </tr>\n",
              "    <tr>\n",
              "      <th>0.700389</th>\n",
              "      <td>1191.734689</td>\n",
              "      <td>1.698438</td>\n",
              "      <td>67.5</td>\n",
              "      <td>175.0</td>\n",
              "      <td>1891.0</td>\n",
              "      <td>341.0</td>\n",
              "      <td>0.700389</td>\n",
              "    </tr>\n",
              "    <tr>\n",
              "      <th>1.368363</th>\n",
              "      <td>1191.734689</td>\n",
              "      <td>1.698438</td>\n",
              "      <td>19.6</td>\n",
              "      <td>175.0</td>\n",
              "      <td>1812.0</td>\n",
              "      <td>300.0</td>\n",
              "      <td>1.368363</td>\n",
              "    </tr>\n",
              "    <tr>\n",
              "      <th>...</th>\n",
              "      <td>...</td>\n",
              "      <td>...</td>\n",
              "      <td>...</td>\n",
              "      <td>...</td>\n",
              "      <td>...</td>\n",
              "      <td>...</td>\n",
              "      <td>...</td>\n",
              "    </tr>\n",
              "    <tr>\n",
              "      <th>153.478062</th>\n",
              "      <td>1351.789530</td>\n",
              "      <td>3.537929</td>\n",
              "      <td>1.0</td>\n",
              "      <td>91.0</td>\n",
              "      <td>1278.0</td>\n",
              "      <td>324.0</td>\n",
              "      <td>153.478062</td>\n",
              "    </tr>\n",
              "    <tr>\n",
              "      <th>153.922465</th>\n",
              "      <td>1351.789530</td>\n",
              "      <td>3.537929</td>\n",
              "      <td>7.2</td>\n",
              "      <td>91.0</td>\n",
              "      <td>1191.0</td>\n",
              "      <td>357.0</td>\n",
              "      <td>153.922465</td>\n",
              "    </tr>\n",
              "    <tr>\n",
              "      <th>153.922465</th>\n",
              "      <td>1351.789530</td>\n",
              "      <td>3.537929</td>\n",
              "      <td>7.2</td>\n",
              "      <td>91.0</td>\n",
              "      <td>1171.0</td>\n",
              "      <td>357.0</td>\n",
              "      <td>153.922465</td>\n",
              "    </tr>\n",
              "    <tr>\n",
              "      <th>154.594778</th>\n",
              "      <td>1351.789530</td>\n",
              "      <td>3.537929</td>\n",
              "      <td>21.6</td>\n",
              "      <td>91.0</td>\n",
              "      <td>1094.0</td>\n",
              "      <td>304.0</td>\n",
              "      <td>154.594778</td>\n",
              "    </tr>\n",
              "    <tr>\n",
              "      <th>155.039198</th>\n",
              "      <td>1351.789530</td>\n",
              "      <td>3.537929</td>\n",
              "      <td>18.2</td>\n",
              "      <td>91.0</td>\n",
              "      <td>989.0</td>\n",
              "      <td>275.0</td>\n",
              "      <td>155.039198</td>\n",
              "    </tr>\n",
              "  </tbody>\n",
              "</table>\n",
              "<p>500 rows × 7 columns</p>\n",
              "</div>"
            ],
            "text/plain": [
              "                PET_Har  PET_over_P  Biomass  ...  SRTM_250m  Dmax_2010    Distance\n",
              "Distance                                      ...                                  \n",
              "0.274443    1191.734689    1.698438     43.4  ...     1688.0      363.0    0.274443\n",
              "0.274443    1191.734689    1.698438     43.4  ...     1635.0      363.0    0.274443\n",
              "0.700389    1191.734689    1.698438     67.5  ...     1817.0      341.0    0.700389\n",
              "0.700389    1191.734689    1.698438     67.5  ...     1891.0      341.0    0.700389\n",
              "1.368363    1191.734689    1.698438     19.6  ...     1812.0      300.0    1.368363\n",
              "...                 ...         ...      ...  ...        ...        ...         ...\n",
              "153.478062  1351.789530    3.537929      1.0  ...     1278.0      324.0  153.478062\n",
              "153.922465  1351.789530    3.537929      7.2  ...     1191.0      357.0  153.922465\n",
              "153.922465  1351.789530    3.537929      7.2  ...     1171.0      357.0  153.922465\n",
              "154.594778  1351.789530    3.537929     21.6  ...     1094.0      304.0  154.594778\n",
              "155.039198  1351.789530    3.537929     18.2  ...      989.0      275.0  155.039198\n",
              "\n",
              "[500 rows x 7 columns]"
            ]
          },
          "metadata": {
            "tags": []
          },
          "execution_count": 129
        }
      ]
    },
    {
      "cell_type": "markdown",
      "metadata": {
        "id": "aIpnyPial8B_"
      },
      "source": [
        "##**Functions**"
      ]
    },
    {
      "cell_type": "code",
      "metadata": {
        "id": "UDuqHJQShUd8"
      },
      "source": [
        "def group_liths(df):\n",
        "  group_col = []\n",
        "  group_mult = []\n",
        "  repeats = []\n",
        "  for k, v in df.groupby((df['Lithology'].shift() != df['Lithology']).cumsum()):\n",
        "      group_col.append(k)\n",
        "      group_mult.append(len(v))\n",
        "      #print(f'[group {k}]')\n",
        "      repeats.append(v['Lithology'].values[0])\n",
        "\n",
        "  unique_lith = list(np.unique(np.array(repeats)))\n",
        "\n",
        "\n",
        "  ## Add grouped lithology to df\n",
        "  groups = [item for item, count in zip(group_col, group_mult) for i in range(count)]\n",
        "  group_int = [int(i) for i in groups]\n",
        "  df['Group'] = group_int\n",
        "  plot_groups = df['Group'].unique()\n",
        "\n",
        "  ## Old colors\n",
        "  #color1 = '#5391ad'\n",
        "  #color2 = '#b38cbf'\n",
        "  #color3 = '#7b8525'\n",
        "  #color4 = '#c97514'\n",
        "  #color5 = '#6a468f'\n",
        "\n",
        "  color_map = [\"#c88cb6\",\n",
        "  \"#72b74b\",\n",
        "  \"#8b49c8\",\n",
        "  \"#c7974d\",\n",
        "  \"#5b66a3\",\n",
        "  \"#d34f3b\",\n",
        "  \"#5eaea4\",\n",
        "  \"#bd4189\",\n",
        "  \"#516934\",\n",
        "  \"#803f3a\"]\n",
        "\n",
        "  codes, uniques = pd.factorize(repeats)\n",
        "  color_list = [color_map[code] for code in codes]\n",
        "\n",
        "  return df, color_list, color_map, plot_groups, uniques"
      ],
      "execution_count": 130,
      "outputs": []
    },
    {
      "cell_type": "code",
      "metadata": {
        "id": "rOaLkRtyiLXX"
      },
      "source": [
        "def xsection(title = None, df = None, top2 = False, top = None, middle= None, main= None, middle_straight_avg = False, middle_rolling_avg = True, avg_window = 50, top_size = \"30%\", middle_size = \"80%\", top2_size = \"20%\", lw=2, alpha = 1, bbox_x = 1, bbox_y = 0):\n",
        "\n",
        "  df, color_list, color_map, plot_groups, uniques = group_liths(df)\n",
        "  fig, ax = plt.subplots(nrows=1,ncols=1, sharex = True, dpi = 300)\n",
        "\n",
        "\n",
        "  if middle_rolling_avg == True:\n",
        "    df[middle + 'Rolling Avg'] = df[middle].rolling(window = avg_window).mean()\n",
        "\n",
        "  #all the axes\n",
        "  divider = make_axes_locatable(ax)\n",
        "  axMiddle = divider.append_axes(\"top\", size=middle_size, pad=0.1, sharex=ax) \n",
        "  axTop = divider.append_axes(\"top\", size=top_size, pad=0.1, sharex=ax) \n",
        "\n",
        "  if top2 != False:\n",
        "    axTop2 = divider.append_axes(\"bottom\", size=top2_size, pad=0.1, sharex=ax)\n",
        "  #axMain is the bottom\n",
        "\n",
        "  i = 0\n",
        "  while (i<len(color_list)):\n",
        "    df_plot = df[df['Group'] == plot_groups[i]]\n",
        "\n",
        "    ax.fill_between(df_plot.index, 0, df_plot[main],color=color_list[i], label= main,  alpha = alpha, lw = lw)\n",
        "\n",
        "    axTop.fill_between(df_plot.index, 0, df_plot[top],color=color_list[i], label= top, alpha = alpha, lw = lw)\n",
        "\n",
        "    axMiddle.fill_between(df_plot.index, 0, df_plot[middle],color=color_list[i], label= middle,  alpha = alpha, lw = lw)\n",
        "\n",
        "    if middle_rolling_avg == True:\n",
        "      axMiddle.plot(df_plot.index, df_plot[middle + 'Rolling Avg'], '-', color='black', label=middle + 'Rolling Avg', zorder =10, lw = 1)\n",
        "    \n",
        "    if middle_straight_avg == True:\n",
        "      df_plot[middle + 'Avg'] = df_plot[middle].mean()\n",
        "      axMiddle.plot(df_plot.index, df_plot[middle + 'Avg'], '-', color='black', label=middle + 'Avg', zorder =10, lw = 1)\n",
        "\n",
        "    if top2 != False:\n",
        "      axTop2.fill_between(df_plot.index, 0, df_plot[top2],color=color_list[i], label= top2,  alpha = alpha, lw = lw)\n",
        "\n",
        "    i+=1\n",
        "\n",
        "  # Set labels\n",
        "  axMiddle.set_xticklabels([])\n",
        "  axTop.set_xticklabels([])\n",
        "\n",
        "  axMiddle.set_ylabel(middle)\n",
        "  axTop.set_ylabel(top)\n",
        "  ax.set_ylabel(main)\n",
        "\n",
        "  if top2 != False:\n",
        "    axTop2.set_xticklabels([])\n",
        "    axTop2.set_ylabel(top2)\n",
        "  \n",
        "  # Custom Legend - requires funky code because the lith colors are not plotted in numerical order, but by order of appearance\n",
        "  names = []\n",
        "  for unique in uniques:\n",
        "    unique_name = key[key['Unique values_UNIIT_NUM'] == unique].groupby('UNIT_LINK')['UNIT_LINK'].first()#.to_numpy()\n",
        "    unique_name = [name.split(';')[0] for name in unique_name]\n",
        "    names.extend(unique_name)\n",
        "\n",
        "  \n",
        "  colors = color_map[0:len(names)]\n",
        "\n",
        "  legend_elements = []\n",
        "  for i in range(len(names)):\n",
        "    elements = [Patch(facecolor=colors[i], edgecolor='k',\n",
        "                          label=names[i])]\n",
        "\n",
        "    legend_elements.extend(elements)\n",
        "\n",
        "  ax.legend(handles=legend_elements, loc = 'lower right', bbox_to_anchor=(bbox_x, bbox_y))\n",
        "  plt.title(title)\n",
        "  plt.show()\n"
      ],
      "execution_count": 131,
      "outputs": []
    },
    {
      "cell_type": "markdown",
      "metadata": {
        "id": "zMYZe0MWl-wF"
      },
      "source": [
        "##**Plot**"
      ]
    },
    {
      "cell_type": "code",
      "metadata": {
        "id": "WENTsMs6WS-A"
      },
      "source": [
        "main = 'Dmax_2010'\n",
        "middle = 'Biomass'\n",
        "top = 'PET_over_P'\n",
        "middle_avg = True\n",
        "avg_window = 50\n",
        "title = 'A-B'\n",
        "bbox_x = 1.3\n",
        "bbox_y = 1"
      ],
      "execution_count": 136,
      "outputs": []
    },
    {
      "cell_type": "code",
      "metadata": {
        "colab": {
          "base_uri": "https://localhost:8080/",
          "height": 826
        },
        "id": "CoSTQAdoGfBW",
        "outputId": "1e90d99a-ad94-4a3a-e10f-75e5e801ae16"
      },
      "source": [
        "xsection(title = title, df = df, top2 = False, top = top, middle= middle, main= main, middle_straight_avg = False, middle_rolling_avg = True, avg_window = 50, top_size = \"30%\", middle_size = \"80%\", top2_size = \"20%\", lw=2, alpha = 1, bbox_x = bbox_x, bbox_y = bbox_y)\n"
      ],
      "execution_count": 139,
      "outputs": [
        {
          "output_type": "display_data",
          "data": {
            "image/png": "[encoded data removed]",
            "text/plain": [
              "<Figure size 1800x1200 with 3 Axes>"
            ]
          },
          "metadata": {
            "tags": [],
            "needs_background": "light"
          }
        }
      ]
    },
    {
      "cell_type": "markdown",
      "metadata": {
        "id": "Ymjrrcrqp5XT"
      },
      "source": [
        "Things we'd like:\n",
        "\n",
        "\n",
        "*   different years cross section as lines to see change\n",
        "\n",
        "\n"
      ]
    },
    {
      "cell_type": "code",
      "metadata": {
        "id": "UOrF1LW5IbIP"
      },
      "source": [
        ""
      ],
      "execution_count": null,
      "outputs": []
    }
  ]
}